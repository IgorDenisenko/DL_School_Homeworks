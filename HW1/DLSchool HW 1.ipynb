{
 "cells": [
  {
   "cell_type": "code",
   "execution_count": 1,
   "metadata": {},
   "outputs": [],
   "source": [
    "import pandas as pd\n",
    "import numpy as np\n",
    "import os"
   ]
  },
  {
   "cell_type": "code",
   "execution_count": 2,
   "metadata": {},
   "outputs": [],
   "source": [
    "import Radar_file_processing as rad"
   ]
  },
  {
   "cell_type": "code",
   "execution_count": 3,
   "metadata": {},
   "outputs": [],
   "source": [
    "list_of_names_radar_files = os.listdir('F:\\RAVN-TS')[:-1]"
   ]
  },
  {
   "cell_type": "code",
   "execution_count": 1,
   "metadata": {
    "scrolled": false
   },
   "outputs": [
    {
     "ename": "NameError",
     "evalue": "name 'list_of_names_radar_files' is not defined",
     "output_type": "error",
     "traceback": [
      "\u001b[1;31m---------------------------------------------------------------------------\u001b[0m",
      "\u001b[1;31mNameError\u001b[0m                                 Traceback (most recent call last)",
      "\u001b[1;32m<ipython-input-1-009fd8e024f3>\u001b[0m in \u001b[0;36m<module>\u001b[1;34m()\u001b[0m\n\u001b[1;32m----> 1\u001b[1;33m \u001b[0mlist_of_names_radar_files\u001b[0m\u001b[1;33m[\u001b[0m\u001b[1;36m0\u001b[0m\u001b[1;33m]\u001b[0m\u001b[1;33m\u001b[0m\u001b[0m\n\u001b[0m",
      "\u001b[1;31mNameError\u001b[0m: name 'list_of_names_radar_files' is not defined"
     ]
    }
   ],
   "source": [
    "list_of_names_radar_files[0]"
   ]
  },
  {
   "cell_type": "code",
   "execution_count": 17,
   "metadata": {},
   "outputs": [],
   "source": [
    "data_test = rad.get_date_from_name_of_file(list_of_names_radar_files[1])"
   ]
  },
  {
   "cell_type": "code",
   "execution_count": 25,
   "metadata": {},
   "outputs": [
    {
     "data": {
      "text/plain": [
       "'05'"
      ]
     },
     "execution_count": 25,
     "metadata": {},
     "output_type": "execute_result"
    }
   ],
   "source": [
    "data_test[11:13]"
   ]
  },
  {
   "cell_type": "code",
   "execution_count": 21,
   "metadata": {},
   "outputs": [
    {
     "data": {
      "text/plain": [
       "'2019-07-08 05:40:00'"
      ]
     },
     "execution_count": 21,
     "metadata": {},
     "output_type": "execute_result"
    }
   ],
   "source": [
    "data_test"
   ]
  },
  {
   "cell_type": "code",
   "execution_count": 2,
   "metadata": {},
   "outputs": [],
   "source": [
    "way = 'F:\\data_chislen'"
   ]
  },
  {
   "cell_type": "code",
   "execution_count": 4,
   "metadata": {},
   "outputs": [
    {
     "data": {
      "text/plain": [
       "520"
      ]
     },
     "execution_count": 4,
     "metadata": {},
     "output_type": "execute_result"
    }
   ],
   "source": [
    "len(os.listdir(way))"
   ]
  },
  {
   "cell_type": "code",
   "execution_count": 5,
   "metadata": {},
   "outputs": [],
   "source": [
    "b =os.listdir(way)"
   ]
  },
  {
   "cell_type": "code",
   "execution_count": 6,
   "metadata": {},
   "outputs": [
    {
     "data": {
      "text/plain": [
       "'pm072012.txt'"
      ]
     },
     "execution_count": 6,
     "metadata": {},
     "output_type": "execute_result"
    }
   ],
   "source": [
    "b[1]"
   ]
  },
  {
   "cell_type": "markdown",
   "metadata": {},
   "source": [
    "# Почти двойной факториал\n",
    "\n",
    "Дано натуральное N⩽100. Выведите произведение всех нечётных натуральных чисел, не превосходящих N.\n",
    "\n",
    "Sample Input:\n",
    "\n",
    "25\n",
    "\n",
    "Sample Output:\n",
    "\n",
    "7905853580625"
   ]
  },
  {
   "cell_type": "code",
   "execution_count": 4,
   "metadata": {},
   "outputs": [
    {
     "name": "stdout",
     "output_type": "stream",
     "text": [
      "25\n",
      "7905853580625\n"
     ]
    }
   ],
   "source": [
    "N = int(input())\n",
    "N_double_fact = 1\n",
    "if N == 0:\n",
    "    pass\n",
    "else:\n",
    "    for i in range(N+1):\n",
    "        if i % 2 == 1:\n",
    "            N_double_fact*=i\n",
    "print(N_double_fact)"
   ]
  },
  {
   "cell_type": "markdown",
   "metadata": {},
   "source": [
    "# Хитрая сортировка\n",
    " \n",
    "\n",
    "Пусть у нас есть следующий список, в котором элементы -- tuple из строк:\n",
    "\n",
    "**items = [('one', 'two'), ('three', 'four'), ('five', 'six'), ('string', 'a')]**\n",
    "\n",
    "Мы хотим отсортировать этот список по последней букве второго элемента каждого tuple, т.е. получить такой список:\n",
    "\n",
    "**sorted_items = [ ('string', 'a'), ('one', 'two'), ('three', 'four'), ('five', 'six'),]**\n",
    "\n",
    "Что нужно вставить вместо \"###\" в следующем выражении, чтобы получить сортировку?\n",
    "\n",
    "sorted_items = sorted(items, key=lambda x: ###)\n",
    " \n",
    "\n",
    "P.S. в ответе не должно фигурировать слово 'len'"
   ]
  },
  {
   "cell_type": "code",
   "execution_count": 17,
   "metadata": {},
   "outputs": [
    {
     "data": {
      "text/plain": [
       "[('string', 'a'), ('one', 'two'), ('three', 'four'), ('five', 'six')]"
      ]
     },
     "execution_count": 17,
     "metadata": {},
     "output_type": "execute_result"
    }
   ],
   "source": [
    "sorted_items = sorted(items, key=lambda x: x[1][-1])\n",
    "sorted_items"
   ]
  },
  {
   "cell_type": "markdown",
   "metadata": {},
   "source": [
    "# Слайсы\n",
    " \n",
    "\n",
    "Дан код:\n",
    "\n",
    "**x = [1, 2, 3, 4, 5]**\n",
    "\n",
    "**x[###] = [-1, -3, -5]**\n",
    "\n",
    "print(x)\n",
    "\n",
    "Напишите слайс вместо ###, чтобы на экран вывелось:\n",
    "\n",
    "[-5, 2, -3, 4, -1]"
   ]
  },
  {
   "cell_type": "code",
   "execution_count": 29,
   "metadata": {},
   "outputs": [
    {
     "name": "stdout",
     "output_type": "stream",
     "text": [
      "[-5, 2, -3, 4, -1]\n"
     ]
    }
   ],
   "source": [
    "x = [1, 2, 3, 4, 5]\n",
    "x[::-2] = [-1, -3, -5]\n",
    "print(x)"
   ]
  },
  {
   "cell_type": "markdown",
   "metadata": {},
   "source": [
    "# Создание массивов\n",
    "\n",
    "Дан массив A[0,…,N−1]. Напишите функцию, принимающую один обязательный аргумент A и \n",
    "\n",
    "один опциональный аргумент erase, по умолчанию равный 1. Возвратите массив B[0,…,N−1], \n",
    "\n",
    "где Bi=A0+…+Ai --- массив частичных сумм массива A, предварительно удалив из массива B все элементы, \n",
    "\n",
    "равные erase. Постарайтесь сделать это за время O(N) без использования Numpy."
   ]
  },
  {
   "cell_type": "code",
   "execution_count": 58,
   "metadata": {},
   "outputs": [],
   "source": [
    "def cumsum_and_erase(A:list,erase=1):\n",
    "    B = [None]*len(A)\n",
    "    B[0] = A[0]\n",
    "    for i in range(1,len(A)):\n",
    "        B[i] = B[i-1]+A[i]\n",
    "    B = list(filter(lambda x: x != erase, B))\n",
    "    return B"
   ]
  },
  {
   "cell_type": "markdown",
   "metadata": {},
   "source": [
    "# Обработка текста\n",
    "\n",
    "Дан список текстов, слова в которых разделены пробелами (можно считать, что знаков препинания нет). \n",
    "\n",
    "Часть слов является \"мусорными\": в них присутствуют цифры и спецсимволы. Отфильтруйте такие слова из каждого текста.\n",
    "    \n",
    "Используйте функции str.split, str.isalpha, str.join, а также генератор filter."
   ]
  },
  {
   "cell_type": "code",
   "execution_count": 137,
   "metadata": {},
   "outputs": [],
   "source": [
    "def process(sentences):       \n",
    "    return [' '.join(list(filter(lambda word: word.isalpha(),sentence.split()))) for sentence in sentences]"
   ]
  },
  {
   "cell_type": "code",
   "execution_count": 138,
   "metadata": {},
   "outputs": [
    {
     "name": "stdout",
     "output_type": "stream",
     "text": [
      "Задание успешно выполнено!\n"
     ]
    }
   ],
   "source": [
    "texts = [\n",
    "    \"Space is the boundless 3-dimensional 42 extent in which objects \" \\\n",
    "    \"and events have relative 523 position and direction. Physical space \" \\\n",
    "    \"is often conceived in three linear dimensions, although modern \" \\\n",
    "    \"physicists usually consider 42 512515 it, with time, to be part of a boundless \" \\\n",
    "    \"four-dimensional continuum22 known as spacetime. The concept of space is \" \\\n",
    "    \"considered to b42e of fun*damental importance to an understanding of \" \\\n",
    "    \"the physical universe. However,{ disagreement continues between philosophers \" \\\n",
    "    \"over whether it is itself an entity, a relat[[[ionship between entities, \" \\\n",
    "    \"or part of a conceptual framework. \",\n",
    "    \"Debates concern,,ing the nature, essence and the mode of existence of \" \\\n",
    "    \"space date back to antiq{{{uity; namely, to treatises like the Timaeus \" \\\n",
    "    \"of Plato, or Socrates in his reflections on what the Greeks called \" \\\n",
    "    \"kh?ra (i.e. \\fspace'), or in the Physics of Aristotle (Book IV, Delta) \" \\\n",
    "    \"in the definition of top53253os (i.e. place), or in the later \" \\\n",
    "    \"'geometrical conception of place' as 'space qua extension' in \" \\\n",
    "    \"the Discourse on Place (Qawl fi al-Makan) of the 11th-century \" \\\n",
    "    \"Arab polymath Alhazen.[2] Many of these classical philosophical \" \\\n",
    "    \"questions were discussed in th<>e Renaissance and then reformulated \" \\\n",
    "    \"in the 17th century, particularl**y during the early development of \" \\\n",
    "    \"classical mechanics. In Isaac Newton's view, space was absolute—in \" \\\n",
    "    \"the sense that it existed permanently and independently of whether there was any matter in the space.\"\n",
    "]\n",
    "\n",
    "result = ['Space is the boundless extent in which objects and events have relative position and Physical space is often conceived in three linear although modern physicists usually consider with to be part of a boundless known as The concept of space is considered to of importance to an understanding of the physical disagreement continues between philosophers over whether it is itself an a between or part of a conceptual', 'Debates the essence and the mode of existence of space date back to to treatises like the Timaeus of or Socrates in his reflections on what the Greeks called or in the Physics of Aristotle in the definition of or in the later conception of as qua in the Discourse on Place fi of the Arab polymath Many of these classical philosophical questions were discussed in Renaissance and then reformulated in the during the early development of classical In Isaac space was the sense that it existed permanently and independently of whether there was any matter in the']\n",
    "\n",
    "def Test(texts, result):\n",
    "    if (process(texts) == result):\n",
    "        print(\"Задание успешно выполнено!\")\n",
    "    else:\n",
    "        print(\"Ошибка в функции\")\n",
    "\n",
    "Test(texts, result)"
   ]
  },
  {
   "cell_type": "markdown",
   "metadata": {},
   "source": [
    "# Собственный класс \"Нейрон\"\n",
    "\n",
    "Реализуйте класс \"Нейрон\", у которого будет несколько методов: \n",
    "\n",
    "- __init__. Принимает на вход массив весов нейрона --- w=(w1,…,wn), а также функцию активации f (аргумент по умолчанию f(x)=x). Сохраняет веса и функцию внутри класса.\n",
    "- forward. Принимает на вход массив x=(x1,…,xN) --- входы нейрона. Возвращает f(w1x1+…+wnxn).\n",
    "- backlog. Возвращает массив x, который подавался на вход функции forward при её последнем вызове."
   ]
  },
  {
   "cell_type": "code",
   "execution_count": 202,
   "metadata": {},
   "outputs": [],
   "source": [
    "class Neuron:\n",
    "\n",
    "    def __init__(self, w, f = lambda x: x):\n",
    "        self.w = w #list\n",
    "        self.activation = f # func\n",
    "    def forward(self, x):\n",
    "        self.x = x\n",
    "        result = 0\n",
    "        for i in range(len(self.x)):\n",
    "            result += (self.x[i] * self.w[i])\n",
    "            print(self.x[i] * self.w[i])\n",
    "        print('res= ',result)\n",
    "        return self.activation(result)\n",
    "\n",
    "    def backlog(self):\n",
    "        return self.x"
   ]
  },
  {
   "cell_type": "code",
   "execution_count": 203,
   "metadata": {},
   "outputs": [
    {
     "name": "stdout",
     "output_type": "stream",
     "text": [
      "2\n",
      "6\n",
      "12\n",
      "20\n",
      "30\n",
      "res=  70\n",
      "Задание успешно выполнено!\n"
     ]
    }
   ],
   "source": [
    "def Test():\n",
    "    test_neuron = Neuron([2, 3, 4, 5, 6], lambda x: x*x)\n",
    "    if (test_neuron.forward([1, 2, 3, 4, 5]) == 4900 and test_neuron.backlog() == [1, 2, 3, 4, 5]):\n",
    "        print(\"Задание успешно выполнено!\")\n",
    "    else:\n",
    "        print(\"Ошибка в решении!\")\n",
    "    \n",
    "Test()"
   ]
  },
  {
   "cell_type": "code",
   "execution_count": 195,
   "metadata": {},
   "outputs": [
    {
     "data": {
      "text/plain": [
       "[-5, 2, -3, 4, -1]"
      ]
     },
     "execution_count": 195,
     "metadata": {},
     "output_type": "execute_result"
    }
   ],
   "source": [
    "test_neuron.backlog()"
   ]
  },
  {
   "cell_type": "code",
   "execution_count": 175,
   "metadata": {},
   "outputs": [],
   "source": [
    "def forward(x):\n",
    "    w = [2, 3, 4, 5, 6]\n",
    "    result = 0\n",
    "    for i in range(len(w)):\n",
    "        result += (x[i] * w[i])\n",
    "        print(x[i] * w[i])\n",
    "    return result"
   ]
  },
  {
   "cell_type": "code",
   "execution_count": 176,
   "metadata": {},
   "outputs": [
    {
     "name": "stdout",
     "output_type": "stream",
     "text": [
      "2\n",
      "6\n",
      "12\n",
      "20\n",
      "30\n"
     ]
    },
    {
     "data": {
      "text/plain": [
       "70"
      ]
     },
     "execution_count": 176,
     "metadata": {},
     "output_type": "execute_result"
    }
   ],
   "source": [
    "forward([1,2,3,4,5])"
   ]
  },
  {
   "cell_type": "code",
   "execution_count": null,
   "metadata": {},
   "outputs": [],
   "source": []
  }
 ],
 "metadata": {
  "kernelspec": {
   "display_name": "Python 3",
   "language": "python",
   "name": "python3"
  },
  "language_info": {
   "codemirror_mode": {
    "name": "ipython",
    "version": 3
   },
   "file_extension": ".py",
   "mimetype": "text/x-python",
   "name": "python",
   "nbconvert_exporter": "python",
   "pygments_lexer": "ipython3",
   "version": "3.7.4"
  }
 },
 "nbformat": 4,
 "nbformat_minor": 2
}
